{
 "cells": [
  {
   "cell_type": "markdown",
   "id": "c47b58ad-556d-4019-8961-99d1e6ef7dcb",
   "metadata": {},
   "source": [
    "# A very brief introduction to core coding concepts"
   ]
  },
  {
   "cell_type": "markdown",
   "id": "dc700045-8e9a-44d6-b482-b73e41374743",
   "metadata": {},
   "source": [
    "This notebook is designed as a series of code snippets, to give you some quick exposure to the basic elements of \"making things happen with code\" that recur across pretty much any programming language you'll come across: _variables_, _functions_ (and their _parameters_), _loops_, and _conditionals_. We're using Python for the moment, which has its own distinctive syntax for signaling when each of those things start and end. But more than the particulars of punctuation or indentation, pay attention to the flow: the relationships defined between the elements within each snippet."
   ]
  },
  {
   "cell_type": "markdown",
   "id": "21f9944b",
   "metadata": {},
   "source": [
    "## Variables and functions"
   ]
  },
  {
   "cell_type": "code",
   "execution_count": null,
   "id": "e0dce753-f99b-4216-9427-e952a3ba655f",
   "metadata": {
    "scrolled": true
   },
   "outputs": [],
   "source": [
    "# A function is \"a way of happening: a mouth.\" \n",
    "# Some functions are built into the language.\n",
    "\n",
    "print(\"hello, world\")"
   ]
  },
  {
   "cell_type": "code",
   "execution_count": null,
   "id": "03d2d334-22cc-46ea-8927-1195a3cad502",
   "metadata": {},
   "outputs": [],
   "source": [
    "# A variable is a storage container:\n",
    "\n",
    "default_greeting = \"hello, world\"\n",
    "\n",
    "# NB: text is enclosed in quotation marks; variables aren't.\n"
   ]
  },
  {
   "cell_type": "code",
   "execution_count": null,
   "id": "383e4fae",
   "metadata": {},
   "outputs": [],
   "source": [
    "# Note that simply defining something, in Python (and often elsewhere), \n",
    "# doesn't (visibly) execute or output the thing you've defined.\n",
    "\n",
    "print(default_greeting)"
   ]
  },
  {
   "cell_type": "code",
   "execution_count": null,
   "id": "8746330d",
   "metadata": {},
   "outputs": [],
   "source": [
    "# Variables can hold more than just text. Arrays are especially useful,\n",
    "# as they let one variable hold multiple values.\n",
    "\n",
    "greeting_array = [\"Hi\", \"Hello\", \"What's up?\", \"Salutations!\"]\n",
    "print(greeting_array)"
   ]
  },
  {
   "cell_type": "code",
   "execution_count": null,
   "id": "59b674b1",
   "metadata": {},
   "outputs": [],
   "source": [
    "# Arrays can be _indexed_ to pull up just one of their values:\n",
    "\n",
    "print(greeting_array[2])"
   ]
  },
  {
   "cell_type": "markdown",
   "id": "168fec26",
   "metadata": {},
   "source": [
    "Note that, in Python, arrays are _0-indexed_, meaning the first value is numbered 0, and the final value of an array with `n` values is `n-1`. (Other languages will instead start with 1 and end with `n`.) To avoid confusion when you want the last value, you can also count backwards using -1:"
   ]
  },
  {
   "cell_type": "code",
   "execution_count": null,
   "id": "8637eb8e",
   "metadata": {},
   "outputs": [],
   "source": [
    "print(greeting_array[-1])"
   ]
  },
  {
   "cell_type": "code",
   "execution_count": null,
   "id": "1ae4dfcc",
   "metadata": {},
   "outputs": [],
   "source": [
    "# We can define our own functions, too.\n",
    "def hello():\n",
    "    print(\"Hello, world!\")"
   ]
  },
  {
   "cell_type": "code",
   "execution_count": null,
   "id": "42f53565",
   "metadata": {},
   "outputs": [],
   "source": [
    "hello()"
   ]
  },
  {
   "cell_type": "code",
   "execution_count": null,
   "id": "a18dbeaa",
   "metadata": {},
   "outputs": [],
   "source": [
    "# _Parameters_ let us pass information into a function\n",
    "\n",
    "def hello3(greeting):\n",
    "    print(greeting)\n",
    "\n",
    "hello3(default_greeting)\n",
    "hello3(\"Nice to see you!\")"
   ]
  },
  {
   "cell_type": "code",
   "execution_count": null,
   "id": "d6990e8e",
   "metadata": {},
   "outputs": [],
   "source": [
    "# You can set any number of parameters, and give them defaults,\n",
    "# when defining a function:\n",
    "\n",
    "def hello4(greeting=\"Hello\", person=\"my friend\"):\n",
    "    output = greeting + \", \" + person + \"!\"\n",
    "    print(output)\n",
    "    \n",
    "hello4()"
   ]
  },
  {
   "cell_type": "code",
   "execution_count": null,
   "id": "d4489163",
   "metadata": {},
   "outputs": [],
   "source": [
    "# But you can still override the defaults, or only some:\n",
    "\n",
    "hello4(\"Hey there\", \"class\")\n",
    "hello4(person=\"teacher\")"
   ]
  },
  {
   "cell_type": "code",
   "execution_count": null,
   "id": "4f08d769",
   "metadata": {},
   "outputs": [],
   "source": [
    "# Functions have their own \"scope\"; variables defined inside them\n",
    "# do not usually change the value of even same-named variables outside.\n",
    "def hello5(greeting = default_greeting):\n",
    "    def intensify(greeting):\n",
    "        greeting = \"I said, '\" + greeting + \"'!\"\n",
    "\n",
    "    intensify(greeting)\n",
    "\n",
    "    print(greeting)\n",
    "    \n",
    "hello5()"
   ]
  },
  {
   "cell_type": "code",
   "execution_count": null,
   "id": "86bd5372",
   "metadata": {},
   "outputs": [],
   "source": [
    "# To pass a value back to the 'calling environment,' use return()\n",
    "# and bind the returned value to a variable:\n",
    "\n",
    "def hello6(greeting = default_greeting):\n",
    "    def intensify(greeting):\n",
    "        greeting = \"I said, '\" + greeting + \"'!\"\n",
    "        return(greeting)\n",
    "\n",
    "    greeting = intensify(greeting)\n",
    "\n",
    "    print(greeting)\n",
    "    \n",
    "hello6()"
   ]
  },
  {
   "cell_type": "markdown",
   "id": "e9f23c20",
   "metadata": {},
   "source": [
    "## Loops and conditionals"
   ]
  },
  {
   "cell_type": "markdown",
   "id": "fad919b1",
   "metadata": {},
   "source": [
    "**Loops** tell the computer to run the same batch of code repeatedly.\n",
    "One of the most common is the _for loop_, which iterates through a \n",
    "defined list of values.\n"
   ]
  },
  {
   "cell_type": "code",
   "execution_count": null,
   "id": "cc4e58cf",
   "metadata": {},
   "outputs": [],
   "source": [
    "for i in range(0,5):\n",
    "    print(i)\n"
   ]
  },
  {
   "cell_type": "code",
   "execution_count": null,
   "id": "d7e51b2e",
   "metadata": {},
   "outputs": [],
   "source": [
    "for phrase in greeting_array:\n",
    "    hello4(greeting = phrase)"
   ]
  },
  {
   "cell_type": "markdown",
   "id": "8940171a",
   "metadata": {},
   "source": [
    "**Conditionals** are _if_ statements that check to see if an expression is true or false, and execute different code chunks depending on the outcome."
   ]
  },
  {
   "cell_type": "code",
   "execution_count": null,
   "id": "a6b9eb5d",
   "metadata": {},
   "outputs": [],
   "source": [
    "# NB: Knowing that in Python we can treat strings as arrays, \n",
    "# we can find and test the last character in a string:\n",
    "\n",
    "def ends_in_punctuation(string):\n",
    "    if string[-1] in \"!@#$%^&*(),.?;:\":\n",
    "        return True\n",
    "    else:\n",
    "        return False"
   ]
  },
  {
   "cell_type": "code",
   "execution_count": null,
   "id": "0197aa8b",
   "metadata": {},
   "outputs": [],
   "source": [
    "ends_in_punctuation(\"test!\")"
   ]
  },
  {
   "cell_type": "code",
   "execution_count": null,
   "id": "30ea8a50",
   "metadata": {},
   "outputs": [],
   "source": [
    "for phrase in greeting_array:\n",
    "    if ends_in_punctuation(phrase):\n",
    "        print(phrase)\n",
    "    else:\n",
    "        hello4(greeting = phrase)"
   ]
  },
  {
   "cell_type": "code",
   "execution_count": null,
   "id": "2cd66a88",
   "metadata": {},
   "outputs": [],
   "source": [
    "def hello7(greeting, reps):\n",
    "    if reps > 2:\n",
    "        for i in range(0, reps):\n",
    "            print(greeting)\n",
    "    elif reps == 2:\n",
    "        print(greeting + \" and \" + greeting.lower() + \" again!\")\n",
    "    elif reps < 1:\n",
    "        return(\"That's not a valid number of reps!\")\n",
    "    else:\n",
    "        print(greeting)\n",
    "        \n",
    "hello7(\"Hey\", 5)"
   ]
  },
  {
   "cell_type": "code",
   "execution_count": null,
   "id": "7da4f4d4",
   "metadata": {},
   "outputs": [],
   "source": []
  }
 ],
 "metadata": {
  "kernelspec": {
   "display_name": "Python 3 (ipykernel)",
   "language": "python",
   "name": "python3"
  },
  "language_info": {
   "codemirror_mode": {
    "name": "ipython",
    "version": 3
   },
   "file_extension": ".py",
   "mimetype": "text/x-python",
   "name": "python",
   "nbconvert_exporter": "python",
   "pygments_lexer": "ipython3",
   "version": "3.11.3"
  }
 },
 "nbformat": 4,
 "nbformat_minor": 5
}
